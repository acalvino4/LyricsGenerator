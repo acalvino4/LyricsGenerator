{
 "cells": [
  {
   "cell_type": "code",
   "execution_count": 1,
   "metadata": {},
   "outputs": [],
   "source": [
    "from song_generator import song_generator"
   ]
  },
  {
   "cell_type": "code",
   "execution_count": 2,
   "metadata": {},
   "outputs": [
    {
     "name": "stdout",
     "output_type": "stream",
     "text": [
      "Downloading albums...\n",
      "Download finished.\n",
      "Loading lyrics to generator...\n",
      "Loading complete.\n"
     ]
    }
   ],
   "source": [
    "pac = song_generator('2Pac')"
   ]
  },
  {
   "cell_type": "code",
   "execution_count": 3,
   "metadata": {},
   "outputs": [],
   "source": [
    "new_pac_hit = pac.make_song()"
   ]
  },
  {
   "cell_type": "code",
   "execution_count": 4,
   "metadata": {},
   "outputs": [
    {
     "data": {
      "text/plain": [
       "'Quincy Jones Ahmad K'"
      ]
     },
     "execution_count": 4,
     "metadata": {},
     "output_type": "execute_result"
    }
   ],
   "source": [
    "new_pac_hit.title"
   ]
  },
  {
   "cell_type": "code",
   "execution_count": 5,
   "metadata": {},
   "outputs": [
    {
     "name": "stdout",
     "output_type": "stream",
     "text": [
      "Make money take money crash and mash through\n",
      "Brooklyn with my hit list pistol cockin' and\n",
      "Jackin' them bustas no matter how hard muthafuckaz\n",
      "Try they can't keep the drama and shit\n",
      "\n",
      "I'ma spark 'til i earl spendin' money 'til\n",
      "It's over then that's when the earth to\n",
      "Ever love a diamond car with a fucking\n",
      "Pig cut him off my coat clearin' my\n",
      "\n",
      "I'm on those who can you picture me\n",
      "Life as a thug up in the whirlwind\n",
      "'96 bonnie and clyde me and you a\n",
      "Call how long will they mourn my brother\n",
      "\n",
      "I'ma spark 'til i earl spendin' money 'til\n",
      "It's over then that's when the earth to\n",
      "Ever love a diamond car with a fucking\n",
      "Pig cut him off my coat clearin' my\n",
      "\n",
      "Tend her talked as i get rough big\n",
      "Mad to put you in even though you\n",
      "Panic and when it counts and flee these\n",
      "Niggas you better beware where you cowards fuck\n",
      "\n",
      "I'ma spark 'til i earl spendin' money 'til\n",
      "It's over then that's when the earth to\n",
      "Ever love a diamond car with a fucking\n",
      "Pig cut him off my coat clearin' my\n",
      "\n"
     ]
    }
   ],
   "source": [
    "print(new_pac_hit.lyrics)"
   ]
  },
  {
   "cell_type": "code",
   "execution_count": 6,
   "metadata": {},
   "outputs": [
    {
     "name": "stdout",
     "output_type": "stream",
     "text": [
      "Loading lyrics to generator...\n",
      "Loading complete.\n"
     ]
    }
   ],
   "source": [
    "# goes super quick because lyrics were cached last time\n",
    "# so there's no need to download\n",
    "another_pac = song_generator('2Pac')"
   ]
  },
  {
   "cell_type": "code",
   "execution_count": 7,
   "metadata": {},
   "outputs": [
    {
     "name": "stdout",
     "output_type": "stream",
     "text": [
      "Loading lyrics to generator...\n",
      "Loading complete.\n"
     ]
    }
   ],
   "source": [
    "buble = song_generator('Michael Buble')"
   ]
  },
  {
   "cell_type": "code",
   "execution_count": 8,
   "metadata": {},
   "outputs": [],
   "source": [
    "new_buble_album = buble.make_album()"
   ]
  },
  {
   "cell_type": "code",
   "execution_count": 9,
   "metadata": {},
   "outputs": [
    {
     "data": {
      "text/plain": [
       "'Call Me Irresponsible'"
      ]
     },
     "execution_count": 9,
     "metadata": {},
     "output_type": "execute_result"
    }
   ],
   "source": [
    "new_buble_album.title"
   ]
  },
  {
   "cell_type": "code",
   "execution_count": 10,
   "metadata": {},
   "outputs": [
    {
     "data": {
      "text/plain": [
       "['Bob Rock',\n",
       " 'Winter Wonderland',\n",
       " 'December Night Ft Bryan',\n",
       " 'Is Yesterdays',\n",
       " 'Barry Gibb',\n",
       " 'Silent Night Ft The',\n",
       " 'Summer Wind',\n",
       " 'Be Home Baby',\n",
       " 'Seeing You']"
      ]
     },
     "execution_count": 10,
     "metadata": {},
     "output_type": "execute_result"
    }
   ],
   "source": [
    "[song.title for song in new_buble_album.songs]"
   ]
  },
  {
   "cell_type": "code",
   "execution_count": 11,
   "metadata": {},
   "outputs": [
    {
     "name": "stdout",
     "output_type": "stream",
     "text": [
      "Remained and we can't find a spark that's\n",
      "A four alarm fire now i can hear\n",
      "Silver bells silver bells the corner santa claus\n",
      "Is coming to town you better watch out\n",
      "\n",
      "Halls but it's undeniably true i'm irresponsibly mad\n",
      "For you my love to put the lonely\n",
      "Days behind us i'm laying it down whatever\n",
      "It takes you've got a friend in me\n",
      "\n",
      "Once i've someone i really need well baby\n",
      "You must have been kissing a fool but\n",
      "You see i'm no good without you baby\n",
      "Just cares for ah she just says her\n",
      "\n",
      "Halls but it's undeniably true i'm irresponsibly mad\n",
      "For you my love to put the lonely\n",
      "Days behind us i'm laying it down whatever\n",
      "It takes you've got a friend in me\n",
      "\n",
      "Love for you my love well i would\n",
      "Say at this empty notebook page in times\n",
      "Like these you feel like you're done and\n",
      "The bottom fell out i get than i\n",
      "\n",
      "Halls but it's undeniably true i'm irresponsibly mad\n",
      "For you my love to put the lonely\n",
      "Days behind us i'm laying it down whatever\n",
      "It takes you've got a friend in me\n",
      "\n"
     ]
    }
   ],
   "source": [
    "print(new_buble_album.songs[2].lyrics)"
   ]
  },
  {
   "cell_type": "code",
   "execution_count": null,
   "metadata": {},
   "outputs": [],
   "source": []
  }
 ],
 "metadata": {
  "kernelspec": {
   "display_name": "Python 3",
   "language": "python",
   "name": "python3"
  },
  "language_info": {
   "codemirror_mode": {
    "name": "ipython",
    "version": 3
   },
   "file_extension": ".py",
   "mimetype": "text/x-python",
   "name": "python",
   "nbconvert_exporter": "python",
   "pygments_lexer": "ipython3",
   "version": "3.7.1"
  }
 },
 "nbformat": 4,
 "nbformat_minor": 2
}
