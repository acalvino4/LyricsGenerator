{
 "cells": [
  {
   "cell_type": "markdown",
   "metadata": {},
   "source": [
    "## Lyrics Generator"
   ]
  },
  {
   "cell_type": "code",
   "execution_count": 1,
   "metadata": {},
   "outputs": [],
   "source": [
    "from song_generator import song_generator"
   ]
  },
  {
   "cell_type": "markdown",
   "metadata": {},
   "source": [
    "The song generator downloads the lyrics for the artist, caches them, and initializes the Markov Chain by loading the lyrics.  The download may take a few minutes."
   ]
  },
  {
   "cell_type": "code",
   "execution_count": 2,
   "metadata": {},
   "outputs": [
    {
     "name": "stdout",
     "output_type": "stream",
     "text": [
      "Downloading albums...\n",
      "Download finished.\n",
      "Loading lyrics to generator...\n",
      "Loading complete.\n"
     ]
    }
   ],
   "source": [
    "sheeran = song_generator('Ed Sheeran')"
   ]
  },
  {
   "cell_type": "code",
   "execution_count": 3,
   "metadata": {},
   "outputs": [],
   "source": [
    "new_sheeran_hit = sheeran.make_song()"
   ]
  },
  {
   "cell_type": "code",
   "execution_count": 4,
   "metadata": {},
   "outputs": [
    {
     "data": {
      "text/plain": [
       "'Photograph Felix Jaehn Remix Ft'"
      ]
     },
     "execution_count": 4,
     "metadata": {},
     "output_type": "execute_result"
    }
   ],
   "source": [
    "new_sheeran_hit.title"
   ]
  },
  {
   "cell_type": "code",
   "execution_count": 5,
   "metadata": {},
   "outputs": [
    {
     "name": "stdout",
     "output_type": "stream",
     "text": [
      "Night and we'll live forever now\n",
      "\n",
      "\n",
      "\n",
      "\n",
      "Now somehow pre chorus so am i haven't\n",
      "Slept for the moustache i hit back when\n",
      "The pen hurts me i'm still the same\n",
      "Way i know chorus 1 show me what\n",
      "\n",
      "It's 30 degrees thursday you work late you\n",
      "Was with a melody hennesey shots and glocks\n",
      "All these things i've done i don't need\n",
      "You at all love will your mouth read\n",
      "\n",
      "Now somehow pre chorus so am i haven't\n",
      "Slept for the moustache i hit back when\n",
      "The pen hurts me i'm still the same\n",
      "Way i know chorus 1 show me what\n",
      "\n",
      "Fighting for his place keep your body oh—i—oh—i—oh—i—oh—i\n",
      "I'm in love just on our own we\n",
      "Are filming this for a better life this\n",
      "Time god knows i'm singing hook ed sheeran\n",
      "\n",
      "Now somehow pre chorus so am i haven't\n",
      "Slept for the moustache i hit back when\n",
      "The pen hurts me i'm still the same\n",
      "Way i know chorus 1 show me what\n",
      "\n"
     ]
    }
   ],
   "source": [
    "print(new_sheeran_hit.lyrics)"
   ]
  },
  {
   "cell_type": "markdown",
   "metadata": {},
   "source": [
    "When loading a generator for the artist again, even in a later session, it loads from the cache, so it goes way faster. (No download is necessary.)"
   ]
  },
  {
   "cell_type": "code",
   "execution_count": 6,
   "metadata": {},
   "outputs": [
    {
     "name": "stdout",
     "output_type": "stream",
     "text": [
      "Loading lyrics to generator...\n",
      "Loading complete.\n"
     ]
    }
   ],
   "source": [
    "# goes super quick because lyrics were cached last time\n",
    "# so there's no need to download\n",
    "another_pac = song_generator('2Pac')"
   ]
  },
  {
   "cell_type": "code",
   "execution_count": 7,
   "metadata": {},
   "outputs": [
    {
     "name": "stdout",
     "output_type": "stream",
     "text": [
      "Downloading albums...\n",
      "Download finished.\n",
      "Loading lyrics to generator...\n",
      "Loading complete.\n"
     ]
    }
   ],
   "source": [
    "mars = song_generator('Bruno Mars')"
   ]
  },
  {
   "cell_type": "markdown",
   "metadata": {},
   "source": [
    "Passing `save=True` to `make_song` or `make_album` saves to a `new-lyrics` folder in the project directory."
   ]
  },
  {
   "cell_type": "code",
   "execution_count": 8,
   "metadata": {},
   "outputs": [],
   "source": [
    "new_mars_album = mars.make_album(save=True)"
   ]
  },
  {
   "cell_type": "code",
   "execution_count": 9,
   "metadata": {},
   "outputs": [
    {
     "data": {
      "text/plain": [
       "'If You Dont Understand'"
      ]
     },
     "execution_count": 9,
     "metadata": {},
     "output_type": "execute_result"
    }
   ],
   "source": [
    "new_mars_album.title"
   ]
  },
  {
   "cell_type": "code",
   "execution_count": 11,
   "metadata": {},
   "outputs": [
    {
     "data": {
      "text/plain": [
       "['Dont Give Up', 'On Me', 'Turn Around', 'Remix Ft Gucci']"
      ]
     },
     "execution_count": 11,
     "metadata": {},
     "output_type": "execute_result"
    }
   ],
   "source": [
    "[song.title for song in new_mars_album.songs]"
   ]
  },
  {
   "cell_type": "code",
   "execution_count": 10,
   "metadata": {},
   "outputs": [
    {
     "name": "stdout",
     "output_type": "stream",
     "text": [
      "Us faded so gone so wrong in my\n",
      "Head i'm losing my head the voices the\n",
      "Voices the voices in my head i'm losing\n",
      "My way but i know you're somewhere out\n",
      "\n",
      "It might be on standby sendin' me straight\n",
      "To voicemail suga what the hell oh you\n",
      "Want it now pre chorus all you young\n",
      "Wild girls you'll be banging on my chest\n",
      "\n",
      "Goodbye goodbye verse 2 some things we do\n",
      "Somewhere in brooklyn verse 2 i get lost\n",
      "Under these lights i get dressed i put\n",
      "You on another but what you got a\n",
      "\n",
      "It might be on standby sendin' me straight\n",
      "To voicemail suga what the hell oh you\n",
      "Want it now pre chorus all you young\n",
      "Wild girls you'll be banging on my chest\n",
      "\n",
      "Think what happened to the moon chorus still\n",
      "Trying to get up on yourself i loved\n",
      "You loved to dance even if my father\n",
      "Didn't tell me baby 'cause i can't get\n",
      "\n",
      "It might be on standby sendin' me straight\n",
      "To voicemail suga what the hell oh you\n",
      "Want it now pre chorus all you young\n",
      "Wild girls you'll be banging on my chest\n",
      "\n"
     ]
    }
   ],
   "source": [
    "print(new_mars_album.songs[2].lyrics)"
   ]
  },
  {
   "cell_type": "code",
   "execution_count": null,
   "metadata": {},
   "outputs": [],
   "source": []
  }
 ],
 "metadata": {
  "kernelspec": {
   "display_name": "Python 3",
   "language": "python",
   "name": "python3"
  },
  "language_info": {
   "codemirror_mode": {
    "name": "ipython",
    "version": 3
   },
   "file_extension": ".py",
   "mimetype": "text/x-python",
   "name": "python",
   "nbconvert_exporter": "python",
   "pygments_lexer": "ipython3",
   "version": "3.7.1"
  }
 },
 "nbformat": 4,
 "nbformat_minor": 2
}
